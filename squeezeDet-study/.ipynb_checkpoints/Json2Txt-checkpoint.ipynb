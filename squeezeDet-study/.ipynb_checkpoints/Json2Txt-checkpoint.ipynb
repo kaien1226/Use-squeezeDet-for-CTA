{
 "cells": [
  {
   "cell_type": "markdown",
   "metadata": {},
   "source": [
    "# Json2Txt \n",
    "## Because the cityscapes dataset label file format is json, but squeezedet used the label file format is KITTI dataset which is txt, we need to convert Json to Txt"
   ]
  },
  {
   "cell_type": "code",
   "execution_count": 21,
   "metadata": {},
   "outputs": [
    {
     "name": "stdout",
     "output_type": "stream",
     "text": [
      "sidewalk\n",
      "[[2047, 532], [1911, 537], [1828, 540], [1782, 540], [1794, 552], [2047, 564]]\n",
      "[[2047 1911 1828 1782 1794 2047]\n",
      " [ 532  537  540  540  552  564]]\n",
      "(1782, 2047, 532, 564)\n"
     ]
    }
   ],
   "source": [
    "import json\n",
    "import cv2\n",
    "import os\n",
    "import argparse\n",
    "import numpy as np\n",
    "import sys\n",
    "\n",
    "def parse_args():\n",
    "    parser = argparse.ArgumentParser(description='Convert Json file to txt file')\n",
    "    parser.add_argument('--txtPath', dest='txtPath', type=str, default='../data/cityscapes/data.txt',\n",
    "                        help='The path where the txt file is saved')\n",
    "    parser.add_argument('--jsonPath', dest='jsonPath', type=str, default='../data/cityscapes/gtFine/train/aachen/aachen_000000_000019_gtFine_polygons.json',\n",
    "                        help='The path where the Json file')\n",
    "    parser.add_argument('--scaleImgHeight', dest='scaleImgHeight', type=float, default=160,\n",
    "                       help='The height of the image after scaling')\n",
    "    parser.add_argument('--scaleImgWide', dest='scaleImgWide', type=float, default=320,\n",
    "                        help='The wide of the image after scaling')    \n",
    "    args, unparsed = parser.parse_known_args() \n",
    "    return args\n",
    "\n",
    "def resolveJson(jsonPath, txtPath):\n",
    "    file = open(jsonPath, \"rb\")\n",
    "    fileJson = json.load(file)\n",
    "    #print(fileJson)\n",
    "    imgHeight = fileJson[\"imgHeight\"]\n",
    "    imgWidth = fileJson[\"imgWidth\"]\n",
    "    objects = fileJson[\"objects\"]\n",
    "    print(objects[1][\"label\"])\n",
    "    print(objects[1][\"polygon\"])\n",
    "    #print(objects[0][\"polygon\"][0][0])\n",
    "    polygonArray = np.array(objects[1][\"polygon\"]).T\n",
    "    print(polygonArray)\n",
    "    Xmin = min(polygonArray[0])\n",
    "    Xmax = max(polygonArray[0])\n",
    "    Ymin = min(polygonArray[1])\n",
    "    Ymax = max(polygonArray[1])\n",
    "    print(Xmin, Xmax, Ymin, Ymax)\n",
    "    \n",
    "    \n",
    "    image = cv2.imread(\"../data/cityscapes/leftImg8bit/train/aachen/aachen_000000_000019_leftImg8bit.png\")\n",
    "    #cv2.rectangle(image, (Xmin, Ymin), (Xmax, Ymax), (255,255,255), 2)\n",
    "    #cv2.imshow(\"img\", image)  \n",
    "    #cv2.waitKey(0)\n",
    "    \n",
    "    if os.path.exists(\"../data/cityscapes/data.txt\"):\n",
    "        os.remove(\"../data/cityscapes/data.txt\")\n",
    "    with open(txtPath, \"w\") as f:\n",
    "    \n",
    "        for i in objects:\n",
    "            label = str(i[\"label\"]).replace(\" \", \"\")\n",
    "            #print(type(label))\n",
    "            polygon = i[\"polygon\"]\n",
    "            PolygonArray = np.array(polygon).T\n",
    "            Xmin = min(PolygonArray[0])\n",
    "            Xmax = max(PolygonArray[0])\n",
    "            Ymin = min(PolygonArray[1])\n",
    "            Ymax = max(PolygonArray[1])\n",
    "            #lab = str(label)\n",
    "            #print(type(lab))\n",
    "            txtContext =label + \" \" + \"0.0\" + \" \" + \"0.0\" + \" \" + \"0.0\" \\\n",
    "                     + \" \" + str(Xmin) + \" \" + str(Ymin) + \" \" + str(Xmax) + \" \" + str(Ymax) \\\n",
    "                     + \" \" + \"0.0\" + \" \" + \"0.0\" + \" \" + \"0.0\" \\\n",
    "                     + \" \" + \"0.0\" + \" \" + \"0.0\" + \" \" + \"0.0\"'\\n'\n",
    "            f.write(txtContext)\n",
    "        #f.write('/n')\n",
    "            cv2.rectangle(image, (Xmin, Ymin), (Xmax, Ymax), (0,255,255), 1)\n",
    "        \n",
    "    f.close()         \n",
    "    cv2.imshow(\"img\", image)  \n",
    "    cv2.waitKey(0)\n",
    "\n",
    "    return (imgHeight, imgWidth, objects)\n",
    "\n",
    "#def output(path):\n",
    "    #result = resolveJson(path, txtNmae)\n",
    "    #print(result)\n",
    "    #for x in result:\n",
    "        #for y in x:\n",
    "            #print(y)\n",
    "\n",
    "            \n",
    "if __name__ == '__main__':\n",
    "    args = parse_args()\n",
    "    txtPath = args.txtPath\n",
    "    imgPath = args.jsonPath\n",
    "    result = resolveJson(imgPath, txtPath)"
   ]
  },
  {
   "cell_type": "code",
   "execution_count": 27,
   "metadata": {},
   "outputs": [
    {
     "name": "stdout",
     "output_type": "stream",
     "text": [
      "<type 'str'>\n"
     ]
    }
   ],
   "source": [
    "lab = \"al\"\n",
    "print(type(lab))\n",
    "l = [lab, \"a\",\"b\",\"c\"]"
   ]
  },
  {
   "cell_type": "code",
   "execution_count": 20,
   "metadata": {},
   "outputs": [
    {
     "data": {
      "text/plain": [
       "'a b'"
      ]
     },
     "execution_count": 20,
     "metadata": {},
     "output_type": "execute_result"
    }
   ],
   "source": [
    "\" a b\".strip()"
   ]
  },
  {
   "cell_type": "code",
   "execution_count": 22,
   "metadata": {},
   "outputs": [
    {
     "name": "stderr",
     "output_type": "stream",
     "text": [
      "usage: ipykernel_launcher.py [-h] [--sum] N [N ...]\n",
      "ipykernel_launcher.py: error: argument N: invalid int value: '/run/user/1000/jupyter/kernel-28950aed-48cb-4154-bb03-9bb044621a55.json'\n"
     ]
    },
    {
     "ename": "SystemExit",
     "evalue": "2",
     "output_type": "error",
     "traceback": [
      "An exception has occurred, use %tb to see the full traceback.\n",
      "\u001b[0;31mSystemExit\u001b[0m\u001b[0;31m:\u001b[0m 2\n"
     ]
    }
   ],
   "source": [
    "import argparse\n",
    "\n",
    "parser = argparse.ArgumentParser(description='Process some integers.')\n",
    "parser.add_argument('integers', metavar='N', type=int, nargs='+',\n",
    "                    help='an integer for the accumulator')\n",
    "parser.add_argument('--sum', dest='accumulate', action='store_const',\n",
    "                    const=sum, default=max,\n",
    "                    help='sum the integers (default: find the max)')\n",
    "\n",
    "args = parser.parse_args()\n",
    "print args.accumulate(args.integers)\n"
   ]
  },
  {
   "cell_type": "markdown",
   "metadata": {},
   "source": [
    "  <ul>\n",
    "<li><a class=\"reference internal\" href=\"#\">15.4. <code class=\"docutils literal notranslate\"><span class=\"pre\">argparse</span></code> — Parser for command-line options, arguments and sub-commands</a><ul>\n",
    "<li><a class=\"reference internal\" href=\"#example\">15.4.1. Example</a><ul>\n",
    "<li><a class=\"reference internal\" href=\"#creating-a-parser\">15.4.1.1. Creating a parser</a></li>\n",
    "<li><a class=\"reference internal\" href=\"#adding-arguments\">15.4.1.2. Adding arguments</a></li>\n",
    "<li><a class=\"reference internal\" href=\"#parsing-arguments\">15.4.1.3. Parsing arguments</a></li>\n",
    "</ul>\n",
    "</li>"
   ]
  },
  {
   "cell_type": "markdown",
   "metadata": {},
   "source": [
    "  <div class=\"section\" id=\"module-argparse\">\n",
    "<span id=\"argparse-parser-for-command-line-options-arguments-and-sub-commands\"></span><h1>15.4. <a class=\"reference internal\" href=\"#module-argparse\" title=\"argparse: Command-line option and argument parsing library.\"><code class=\"xref py py-mod docutils literal notranslate\"><span class=\"pre\">argparse</span></code></a> — Parser for command-line options, arguments and sub-commands<a class=\"headerlink\" href=\"#module-argparse\" title=\"Permalink to this headline\">¶</a></h1>\n",
    "<div class=\"versionadded\">\n",
    "<p><span class=\"versionmodified\">New in version 2.7.</span></p>\n",
    "</div>\n",
    "<p><strong>Source code:</strong> <a class=\"reference external\" href=\"https://github.com/python/cpython/tree/2.7/Lib/argparse.py\">Lib/argparse.py</a></p>\n",
    "<hr class=\"docutils\" />\n",
    "<div class=\"sidebar\">\n",
    "<p class=\"first sidebar-title\">Tutorial</p>\n",
    "<p class=\"last\">This page contains the API reference information. For a more gentle\n",
    "introduction to Python command-line parsing, have a look at the\n",
    "<a class=\"reference internal\" href=\"../howto/argparse.html#id1\"><span class=\"std std-ref\">argparse tutorial</span></a>.</p>\n",
    "</div>\n",
    "<p>The <a class=\"reference internal\" href=\"#module-argparse\" title=\"argparse: Command-line option and argument parsing library.\"><code class=\"xref py py-mod docutils literal notranslate\"><span class=\"pre\">argparse</span></code></a> module makes it easy to write user-friendly command-line\n",
    "interfaces. The program defines what arguments it requires, and <a class=\"reference internal\" href=\"#module-argparse\" title=\"argparse: Command-line option and argument parsing library.\"><code class=\"xref py py-mod docutils literal notranslate\"><span class=\"pre\">argparse</span></code></a>\n",
    "will figure out how to parse those out of <a class=\"reference internal\" href=\"sys.html#sys.argv\" title=\"sys.argv\"><code class=\"xref py py-data docutils literal notranslate\"><span class=\"pre\">sys.argv</span></code></a>.  The <a class=\"reference internal\" href=\"#module-argparse\" title=\"argparse: Command-line option and argument parsing library.\"><code class=\"xref py py-mod docutils literal notranslate\"><span class=\"pre\">argparse</span></code></a>\n",
    "module also automatically generates help and usage messages and issues errors\n",
    "when users give the program invalid arguments.</p>\n",
    "<div class=\"section\" id=\"example\">\n",
    "<h2>15.4.1. Example<a class=\"headerlink\" href=\"#example\" title=\"Permalink to this headline\">¶</a></h2>\n",
    "<p>The following code is a Python program that takes a list of integers and\n",
    "produces either the sum or the max:</p>\n",
    "<div class=\"highlight-default notranslate\"><div class=\"highlight\"><pre><span></span><span class=\"kn\">import</span> <span class=\"nn\">argparse</span>\n",
    "\n",
    "<span class=\"n\">parser</span> <span class=\"o\">=</span> <span class=\"n\">argparse</span><span class=\"o\">.</span><span class=\"n\">ArgumentParser</span><span class=\"p\">(</span><span class=\"n\">description</span><span class=\"o\">=</span><span class=\"s1\">&#39;Process some integers.&#39;</span><span class=\"p\">)</span>\n",
    "<span class=\"n\">parser</span><span class=\"o\">.</span><span class=\"n\">add_argument</span><span class=\"p\">(</span><span class=\"s1\">&#39;integers&#39;</span><span class=\"p\">,</span> <span class=\"n\">metavar</span><span class=\"o\">=</span><span class=\"s1\">&#39;N&#39;</span><span class=\"p\">,</span> <span class=\"nb\">type</span><span class=\"o\">=</span><span class=\"nb\">int</span><span class=\"p\">,</span> <span class=\"n\">nargs</span><span class=\"o\">=</span><span class=\"s1\">&#39;+&#39;</span><span class=\"p\">,</span>\n",
    "                    <span class=\"n\">help</span><span class=\"o\">=</span><span class=\"s1\">&#39;an integer for the accumulator&#39;</span><span class=\"p\">)</span>\n",
    "<span class=\"n\">parser</span><span class=\"o\">.</span><span class=\"n\">add_argument</span><span class=\"p\">(</span><span class=\"s1\">&#39;--sum&#39;</span><span class=\"p\">,</span> <span class=\"n\">dest</span><span class=\"o\">=</span><span class=\"s1\">&#39;accumulate&#39;</span><span class=\"p\">,</span> <span class=\"n\">action</span><span class=\"o\">=</span><span class=\"s1\">&#39;store_const&#39;</span><span class=\"p\">,</span>\n",
    "                    <span class=\"n\">const</span><span class=\"o\">=</span><span class=\"nb\">sum</span><span class=\"p\">,</span> <span class=\"n\">default</span><span class=\"o\">=</span><span class=\"nb\">max</span><span class=\"p\">,</span>\n",
    "                    <span class=\"n\">help</span><span class=\"o\">=</span><span class=\"s1\">&#39;sum the integers (default: find the max)&#39;</span><span class=\"p\">)</span>\n",
    "\n",
    "<span class=\"n\">args</span> <span class=\"o\">=</span> <span class=\"n\">parser</span><span class=\"o\">.</span><span class=\"n\">parse_args</span><span class=\"p\">()</span>\n",
    "<span class=\"nb\">print</span> <span class=\"n\">args</span><span class=\"o\">.</span><span class=\"n\">accumulate</span><span class=\"p\">(</span><span class=\"n\">args</span><span class=\"o\">.</span><span class=\"n\">integers</span><span class=\"p\">)</span>\n",
    "</pre></div>\n",
    "</div>\n",
    "<p>Assuming the Python code above is saved into a file called <code class=\"docutils literal notranslate\"><span class=\"pre\">prog.py</span></code>, it can\n",
    "be run at the command line and provides useful help messages:</p>\n",
    "<div class=\"highlight-shell-session notranslate\"><div class=\"highlight\"><pre><span></span><span class=\"gp\">$</span> python prog.py -h\n",
    "<span class=\"go\">usage: prog.py [-h] [--sum] N [N ...]</span>\n",
    "\n",
    "<span class=\"go\">Process some integers.</span>\n",
    "\n",
    "<span class=\"go\">positional arguments:</span>\n",
    "<span class=\"go\"> N           an integer for the accumulator</span>"
   ]
  },
  {
   "cell_type": "markdown",
   "metadata": {},
   "source": [
    "<td bgcolor=orange>  <div style=\"text-align: right\"> your-text-here </div>  <blockquote>          </blockquote> df                                                      </td>"
   ]
  },
  {
   "cell_type": "markdown",
   "metadata": {},
   "source": [
    "<right> ssss</right>"
   ]
  },
  {
   "cell_type": "markdown",
   "metadata": {},
   "source": [
    "<div style=\"text-align: right\"> your-text-here </div>"
   ]
  },
  {
   "cell_type": "code",
   "execution_count": null,
   "metadata": {},
   "outputs": [],
   "source": []
  }
 ],
 "metadata": {
  "kernelspec": {
   "display_name": "Python 2",
   "language": "python",
   "name": "python2"
  },
  "language_info": {
   "codemirror_mode": {
    "name": "ipython",
    "version": 2
   },
   "file_extension": ".py",
   "mimetype": "text/x-python",
   "name": "python",
   "nbconvert_exporter": "python",
   "pygments_lexer": "ipython2",
   "version": "2.7.12"
  }
 },
 "nbformat": 4,
 "nbformat_minor": 2
}
