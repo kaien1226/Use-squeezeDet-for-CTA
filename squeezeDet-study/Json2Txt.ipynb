{
 "cells": [
  {
   "cell_type": "markdown",
   "metadata": {},
   "source": [
    "# Json2Txt \n",
    "## Because the cityscapes dataset label file format is json, but squeezedet used the label file format is KITTI dataset which is txt, we need to convert Json to Txt"
   ]
  },
  {
   "cell_type": "code",
   "execution_count": 2,
   "metadata": {},
   "outputs": [
    {
     "name": "stdout",
     "output_type": "stream",
     "text": [
      "sidewalk\n",
      "[[2047, 532], [1911, 537], [1828, 540], [1782, 540], [1794, 552], [2047, 564]]\n",
      "[[2047 1911 1828 1782 1794 2047]\n",
      " [ 532  537  540  540  552  564]]\n",
      "(1782, 2047, 532, 564)\n"
     ]
    }
   ],
   "source": [
    "import json\n",
    "import cv2\n",
    "import os\n",
    "import argparse\n",
    "import numpy as np\n",
    "import sys\n",
    "\n",
    "def parse_args():\n",
    "    parser = argparse.ArgumentParser(description='Convert Json file to txt file')\n",
    "    parser.add_argument('--txtPath', dest='txtPath', type=str, default='../data/cityscapes/data.txt',\n",
    "                        help='The path where the txt file is saved')\n",
    "    parser.add_argument('--jsonPath', dest='jsonPath', type=str, default='../data/cityscapes/gtFine/train/aachen/aachen_000000_000019_gtFine_polygons.json',\n",
    "                        help='The path where the Json file')\n",
    "    parser.add_argument('--scaleImgHeight', dest='scaleImgHeight', type=float, default=160,\n",
    "                       help='The height of the image after scaling')\n",
    "    parser.add_argument('--scaleImgWide', dest='scaleImgWide', type=float, default=320,\n",
    "                        help='The wide of the image after scaling')    \n",
    "    args, unparsed = parser.parse_known_args() \n",
    "    return args\n",
    "\n",
    "def resolveJson(jsonPath, txtPath):\n",
    "    file = open(jsonPath, \"rb\")\n",
    "    fileJson = json.load(file)\n",
    "    #print(fileJson)\n",
    "    imgHeight = fileJson[\"imgHeight\"]\n",
    "    imgWidth = fileJson[\"imgWidth\"]\n",
    "    objects = fileJson[\"objects\"]\n",
    "    print(objects[1][\"label\"])\n",
    "    print(objects[1][\"polygon\"])\n",
    "    #print(objects[0][\"polygon\"][0][0])\n",
    "    polygonArray = np.array(objects[1][\"polygon\"]).T\n",
    "    print(polygonArray)\n",
    "    Xmin = min(polygonArray[0])\n",
    "    Xmax = max(polygonArray[0])\n",
    "    Ymin = min(polygonArray[1])\n",
    "    Ymax = max(polygonArray[1])\n",
    "    print(Xmin, Xmax, Ymin, Ymax)\n",
    "    \n",
    "    \n",
    "    image = cv2.imread(\"../data/cityscapes/leftImg8bit/train/aachen/aachen_000000_000019_leftImg8bit.png\")\n",
    "    #cv2.rectangle(image, (Xmin, Ymin), (Xmax, Ymax), (255,255,255), 2)\n",
    "    #cv2.imshow(\"img\", image)  \n",
    "    #cv2.waitKey(0)\n",
    "    \n",
    "    if os.path.exists(\"../data/cityscapes/data.txt\"):\n",
    "        os.remove(\"../data/cityscapes/data.txt\")\n",
    "    with open(txtPath, \"w\") as f:\n",
    "    \n",
    "        for i in objects:\n",
    "            label = str(i[\"label\"]).replace(\" \", \"\")\n",
    "            #print(type(label))\n",
    "            polygon = i[\"polygon\"]\n",
    "            PolygonArray = np.array(polygon).T\n",
    "            Xmin = min(PolygonArray[0])\n",
    "            Xmax = max(PolygonArray[0])\n",
    "            Ymin = min(PolygonArray[1])\n",
    "            Ymax = max(PolygonArray[1])\n",
    "            #lab = str(label)\n",
    "            #print(type(lab))\n",
    "            txtContext =label + \" \" + \"0.0\" + \" \" + \"0.0\" + \" \" + \"0.0\" \\\n",
    "                     + \" \" + str(Xmin) + \" \" + str(Ymin) + \" \" + str(Xmax) + \" \" + str(Ymax) \\\n",
    "                     + \" \" + \"0.0\" + \" \" + \"0.0\" + \" \" + \"0.0\" \\\n",
    "                     + \" \" + \"0.0\" + \" \" + \"0.0\" + \" \" + \"0.0\"'\\n'\n",
    "            f.write(txtContext)\n",
    "        #f.write('/n')\n",
    "            cv2.rectangle(image, (Xmin, Ymin), (Xmax, Ymax), (0,255,255), 1)\n",
    "        \n",
    "    f.close()         \n",
    "    cv2.imshow(\"img\", image)  \n",
    "    cv2.waitKey(0)\n",
    "\n",
    "    return (imgHeight, imgWidth, objects)\n",
    "\n",
    "#def output(path):\n",
    "    #result = resolveJson(path, txtNmae)\n",
    "    #print(result)\n",
    "    #for x in result:\n",
    "        #for y in x:\n",
    "            #print(y)\n",
    "\n",
    "            \n",
    "if __name__ == '__main__':\n",
    "    args = parse_args()\n",
    "    txtPath = args.txtPath\n",
    "    imgPath = args.jsonPath\n",
    "    result = resolveJson(imgPath, txtPath)"
   ]
  },
  {
   "cell_type": "code",
   "execution_count": 27,
   "metadata": {},
   "outputs": [
    {
     "name": "stdout",
     "output_type": "stream",
     "text": [
      "<type 'str'>\n"
     ]
    }
   ],
   "source": [
    "lab = \"al\"\n",
    "print(type(lab))\n",
    "l = [lab, \"a\",\"b\",\"c\"]"
   ]
  },
  {
   "cell_type": "code",
   "execution_count": 20,
   "metadata": {},
   "outputs": [
    {
     "data": {
      "text/plain": [
       "'a b'"
      ]
     },
     "execution_count": 20,
     "metadata": {},
     "output_type": "execute_result"
    }
   ],
   "source": [
    "\" a b\".strip()"
   ]
  },
  {
   "cell_type": "markdown",
   "metadata": {},
   "source": [
    "<img src=\"https://img-blog.csdn.net/2018092916042238?watermark/2/text/aHR0cHM6Ly9ibG9nLmNzZG4ubmV0L2thaWVuMTIyNg==/font/5a6L5L2T/fontsize/400/fill/I0JBQkFCMA==/dissolve/70\" style=\"width:1000px;height:500px;float:left\">\n",
    "\n",
    "\n",
    "<font color=#8552a1 size= 6>\n",
    "  argparse\n",
    "</font>\n",
    "\n",
    "<hr class=\"docutils\" />\n",
    "\n",
    "<font size= 4>\n",
    "    The argparse module makes it easy to write user-friendly command-line interfaces. The program defines what arguments it requires, and argparse will figure out how to parse those out of sys.argv. The argparse module also automatically generates help and usage messages and issues errors when users give the program invalid arguments.\n",
    "</font>\n",
    "\n",
    "<table style=\"width:100%;border-collapse:collapse;background-color:white;\">\n",
    "    <tr style=\"background-color:rgba(30, 200,100, 0.8)\" >\n",
    "      <th> <font size= 5> Example  </font></th>\n",
    "    </tr>\n",
    "<table>"
   ]
  },
  {
   "cell_type": "code",
   "execution_count": 19,
   "metadata": {},
   "outputs": [
    {
     "name": "stdout",
     "output_type": "stream",
     "text": [
      "('jsonPath:', '../data/cityscapes/gtFine/train/aachen/aachen_000000_000019_gtFine_polygons.json')\n"
     ]
    }
   ],
   "source": [
    "import argparse\n",
    "\n",
    "parser = argparse.ArgumentParser(description='Convert Json file to txt file')\n",
    "parser.add_argument('--txtPath', dest='txtPath', type=str, default='../data/cityscapes/data.txt',\n",
    "                        help='The path where the txt file is saved')\n",
    "parser.add_argument('--jsonPath', dest='jsonPath', type=str, default='../data/cityscapes/gtFine/train/aachen/aachen_000000_000019_gtFine_polygons.json',\n",
    "                        help='The path where the Json file')\n",
    "parser.add_argument('--scaleImgHeight', dest='scaleImgHeight', type=float, default=160,\n",
    "                       help='The height of the image after scaling')\n",
    "parser.add_argument('--scaleImgWide', dest='scaleImgWide', type=float, default=320,\n",
    "                        help='The wide of the image after scaling')    \n",
    "args, unparsed = parser.parse_known_args() \n",
    "\n",
    "print ('jsonPath:', args.jsonPath)\n"
   ]
  },
  {
   "cell_type": "markdown",
   "metadata": {},
   "source": [
    "<table style=\"width:100%;border-collapse:collapse;background-color:white;\">\n",
    "    <tr style=\"background-color:rgba(30, 200,100, 0.8)\" >\n",
    "      <th> <font size= 5> Example  </font></th>\n",
    "    </tr>\n",
    " </table>\n",
    "\n",
    "<code>\n",
    "            \n",
    "     import argparse\n",
    "\n",
    "     parser = argparse.ArgumentParser(description='Process some integers.')\n",
    "     parser.add_argument('integers', metavar='N', type=int, nargs='+',\n",
    "                    help='an integer for the accumulator')\n",
    "     parser.add_argument('--sum', dest='accumulate', action='store_const',\n",
    "                       const=sum, default=max,\n",
    "                    help='sum the integers (default: find the max)')\n",
    "\n",
    "     args = parser.parse_args()\n",
    "\n",
    "     print args.accumulate(args.integers)\n",
    "</code>"
   ]
  },
  {
   "cell_type": "code",
   "execution_count": 13,
   "metadata": {},
   "outputs": [
    {
     "name": "stdout",
     "output_type": "stream",
     "text": [
      "usage: prog.py [-h] [--sum] N [N ...]\n",
      "\n",
      "Process some integers.\n",
      "\n",
      "positional arguments:\n",
      "  N           an integer for the accumulator\n",
      "\n",
      "optional arguments:\n",
      "  -h, --help  show this help message and exit\n",
      "  --sum       sum the integers (default: find the max)\n"
     ]
    }
   ],
   "source": [
    "% run prog.py -h"
   ]
  },
  {
   "cell_type": "code",
   "execution_count": 15,
   "metadata": {},
   "outputs": [
    {
     "name": "stdout",
     "output_type": "stream",
     "text": [
      "10\n"
     ]
    }
   ],
   "source": [
    "% run prog.py 1 2 3 4 --sum"
   ]
  }
 ],
 "metadata": {
  "kernelspec": {
   "display_name": "Python 2",
   "language": "python",
   "name": "python2"
  },
  "language_info": {
   "codemirror_mode": {
    "name": "ipython",
    "version": 2
   },
   "file_extension": ".py",
   "mimetype": "text/x-python",
   "name": "python",
   "nbconvert_exporter": "python",
   "pygments_lexer": "ipython2",
   "version": "2.7.12"
  }
 },
 "nbformat": 4,
 "nbformat_minor": 2
}
